{
 "cells": [
  {
   "cell_type": "markdown",
   "id": "cb534010-e442-4148-9a5c-3269b47606fb",
   "metadata": {},
   "source": [
    " # import library"
   ]
  },
  {
   "cell_type": "code",
   "execution_count": 1,
   "id": "9f7ab850-64bc-4f11-839b-3aa7fe78964f",
   "metadata": {},
   "outputs": [],
   "source": [
    "import os\n",
    "import cv2\n",
    "import pydotplus as pydot\n",
    "import numpy as np\n",
    "import matplotlib.pyplot as plt\n",
    "from PIL import Image\n",
    "import tensorflow as tf\n",
    "from tensorflow.keras.layers import Conv2D, Dense, Dropout, Flatten, MaxPooling2D, concatenate,Input\n",
    "from tensorflow.keras.models import Model, Sequential\n",
    "from tensorflow.keras.preprocessing import image\n",
    "from tensorflow.keras.preprocessing.image import ImageDataGenerator\n",
    "from tensorflow.keras.utils import  plot_model\n"
   ]
  },
  {
   "cell_type": "markdown",
   "id": "809444b8-3035-4bfb-b823-2b0b84a9a6e7",
   "metadata": {},
   "source": [
    "# prepare dataset"
   ]
  },
  {
   "cell_type": "code",
   "execution_count": 2,
   "id": "fbe1664c-7915-4247-898f-be27e56d9d6f",
   "metadata": {},
   "outputs": [],
   "source": [
    "path = 'C:/Users/rheza/Documents/Python Scripts/Python Scripts/faces data'\n",
    "img_height, img_width= 100,100\n",
    "target_size = (img_height, img_width)\n",
    "batch_size=32"
   ]
  },
  {
   "cell_type": "code",
   "execution_count": 3,
   "id": "ec591dfa-c75b-4efd-8a36-ae17c9a78bb2",
   "metadata": {},
   "outputs": [
    {
     "ename": "FileNotFoundError",
     "evalue": "[WinError 3] The system cannot find the path specified: 'C:/Users/rheza/Documents/Python Scripts/Python Scripts/faces data'",
     "output_type": "error",
     "traceback": [
      "\u001B[1;31m---------------------------------------------------------------------------\u001B[0m",
      "\u001B[1;31mFileNotFoundError\u001B[0m                         Traceback (most recent call last)",
      "\u001B[1;32m<ipython-input-3-3a42b333dd52>\u001B[0m in \u001B[0;36m<module>\u001B[1;34m\u001B[0m\n\u001B[0;32m      1\u001B[0m \u001B[0mlabels\u001B[0m \u001B[1;33m=\u001B[0m \u001B[1;33m[\u001B[0m\u001B[1;33m]\u001B[0m\u001B[1;33m\u001B[0m\u001B[1;33m\u001B[0m\u001B[0m\n\u001B[1;32m----> 2\u001B[1;33m \u001B[0mlist\u001B[0m \u001B[1;33m=\u001B[0m \u001B[0mos\u001B[0m\u001B[1;33m.\u001B[0m\u001B[0mlistdir\u001B[0m\u001B[1;33m(\u001B[0m\u001B[1;34m'C:/Users/rheza/Documents/Python Scripts/Python Scripts/faces data'\u001B[0m\u001B[1;33m)\u001B[0m\u001B[1;33m\u001B[0m\u001B[1;33m\u001B[0m\u001B[0m\n\u001B[0m\u001B[0;32m      3\u001B[0m \u001B[1;32mfor\u001B[0m \u001B[0mi\u001B[0m \u001B[1;32min\u001B[0m \u001B[0mlist\u001B[0m\u001B[1;33m:\u001B[0m\u001B[1;33m\u001B[0m\u001B[1;33m\u001B[0m\u001B[0m\n\u001B[0;32m      4\u001B[0m     \u001B[0mlist1\u001B[0m \u001B[1;33m=\u001B[0m \u001B[0mos\u001B[0m\u001B[1;33m.\u001B[0m\u001B[0mlistdir\u001B[0m\u001B[1;33m(\u001B[0m\u001B[1;34m'C:/Users/rheza/Documents/Python Scripts/Python Scripts/faces data/'\u001B[0m\u001B[1;33m+\u001B[0m\u001B[0mi\u001B[0m\u001B[1;33m)\u001B[0m\u001B[1;33m\u001B[0m\u001B[1;33m\u001B[0m\u001B[0m\n\u001B[0;32m      5\u001B[0m     \u001B[0mlabels\u001B[0m\u001B[1;33m.\u001B[0m\u001B[0mappend\u001B[0m\u001B[1;33m(\u001B[0m\u001B[0mi\u001B[0m\u001B[1;33m)\u001B[0m\u001B[1;33m\u001B[0m\u001B[1;33m\u001B[0m\u001B[0m\n",
      "\u001B[1;31mFileNotFoundError\u001B[0m: [WinError 3] The system cannot find the path specified: 'C:/Users/rheza/Documents/Python Scripts/Python Scripts/faces data'"
     ]
    }
   ],
   "source": [
    "labels = []\n",
    "list = os.listdir('C:/Users/rheza/Documents/Python Scripts/Python Scripts/faces data')\n",
    "for i in list:\n",
    "    list1 = os.listdir('C:/Users/rheza/Documents/Python Scripts/Python Scripts/faces data/'+i)\n",
    "    labels.append(i)\n",
    "print(labels)\n",
    "classes = len(labels)"
   ]
  },
  {
   "cell_type": "code",
   "execution_count": null,
   "id": "51e702a6-ac1b-4e26-8a4a-479e75654e7a",
   "metadata": {},
   "outputs": [],
   "source": [
    "def preprocessing_function(image):\n",
    "    \n",
    "#     bothEye_cascade = cv2.CascadeClassifier('C:/Users/rheza/Documents/Python Scripts/Python Scripts/HaarCascades/haarcascade_mcs_eyepair_big.xml')\n",
    "#     # gray = cv2.cvtColor(image,cv2.COLOR_BGR2GRAY)     \n",
    "#     bothEye = bothEye_cascade.detectMultiScale(image,1.1,5)\n",
    "                           \n",
    "#     for(x, y, w, h) in bothEye:\n",
    "#         cv2.rectangle(image, (x,y-40),(x+w+10,y+h), (255, 0, 0),2)\n",
    "#         roi_eyes = image[y-40:y+h, x:x+w]\n",
    "        \n",
    "#     # image = np.array(image)\n",
    "#     # # image = cv2.cvtColor(image, cv2.COLOR_BGR2GRAY)\n",
    "#     # ret, image = cv2.threshold(image, 127, 255, cv2.THRESH_BINARY)\n",
    "#     # print(image.shape)\n",
    "#     # image = image[:,:,np.newaxis]\n",
    "#     image = cv2.resize(roi_eyes,(img_height,img_width))\n",
    "#     image = np.reshape(image, [1,img_height,img_width,3])\n",
    "    return np.array(hsv_image)"
   ]
  },
  {
   "cell_type": "code",
   "execution_count": null,
   "id": "7a916bbd-e54d-482c-86ad-b1e22806c36a",
   "metadata": {},
   "outputs": [],
   "source": [
    "from IPython.display import display\n",
    "import matplotlib.pyplot as plt\n",
    "\n",
    "train_datagen = ImageDataGenerator(validation_split=0.2,)#,brightness_range= [0.7, 1.3],)\n",
    "                                   # preprocessing_function=preprocessing_function)\n",
    "\n",
    "train_gen = train_datagen.flow_from_directory(path, target_size = target_size,shuffle = True, class_mode = 'categorical',batch_size = 32,\n",
    "                                              subset='training',color_mode='rgb')\n",
    "val_gen = train_datagen.flow_from_directory(path, target_size = target_size,shuffle = True, class_mode = 'categorical',batch_size = 32,\n",
    "                                            subset='validation',color_mode='rgb')\n",
    "\n",
    "# batch=next(train_gen)  # returns the next batch of images and labels \n",
    "# print(batch[0].shape) # batch[0] is the images, batch[1] are the labels\n",
    "# img=batch[0][0]   # this is the first image  batch[0][1] would be the next image\n",
    "# cv2.imwrite(f'1.jpg',img)\n",
    "                    \n",
    "# # print (img.shape)\n",
    "# plt.imshow(img)\n",
    "\n"
   ]
  },
  {
   "cell_type": "markdown",
   "id": "2c63371d-c304-4535-98b4-ae92e6c04c19",
   "metadata": {
    "tags": []
   },
   "source": [
    "# create model liniear"
   ]
  },
  {
   "cell_type": "code",
   "execution_count": null,
   "id": "a9ccb0f7-c834-4d07-b357-a509eb7bee53",
   "metadata": {},
   "outputs": [],
   "source": [
    "model = Sequential()\n",
    "model.add(Conv2D(64, kernel_size = 2\n",
    "                 ,strides = 1, activation='relu',padding = 'same', input_shape = (img_height,img_width,3)))\n",
    "model.add(MaxPooling2D(pool_size = (2,2), strides = 2))\n",
    "\n",
    "model.add(Conv2D(32, kernel_size = 2, strides = 1, activation='relu',padding = 'same'))\n",
    "model.add(MaxPooling2D(pool_size = (2,2), strides = 2))\n",
    "\n",
    "model.add(Conv2D(16, kernel_size = 2, strides = 1, activation='relu',padding = 'same'))\n",
    "model.add(MaxPooling2D(pool_size = (2,2), strides = 2))\n",
    "\n",
    "\n",
    "model.add(Flatten())\n",
    "\n",
    "model.add(Dropout(0.5))\n",
    "model.add(Dense(128,activation='sigmoid'))\n",
    "model.add(Dense(classes, activation='softmax'))\n",
    "\n",
    "model.compile(optimizer='Adam',loss = 'categorical_crossentropy', metrics=(['accuracy']))\n",
    "\n",
    "# model.layers[0].set_weights()\n",
    "# print(model.layers[0].get_weights()[0].shape)\n",
    "print(model.layers[0].get_weights())\n",
    "\n",
    "model.summary()\n",
    "\n",
    "plot_model(model,show_shapes=True,)"
   ]
  },
  {
   "cell_type": "markdown",
   "id": "1a6a3034-38ad-4895-932b-66100959a1fb",
   "metadata": {
    "jp-MarkdownHeadingCollapsed": true,
    "tags": []
   },
   "source": [
    "# create model non linear"
   ]
  },
  {
   "cell_type": "code",
   "execution_count": null,
   "id": "062ef59b-4d69-4aa0-9c07-4a680c132e29",
   "metadata": {},
   "outputs": [],
   "source": [
    "input_awal = Input(shape=[img_height, img_width,3])\n",
    "\n",
    "\n",
    "left_branch = Conv2D(64, kernel_size = (2,2),strides = (1,1), activation='relu',padding = 'same')(input_awal)\n",
    "left_branch = MaxPooling2D(pool_size = (2,2))(left_branch)\n",
    "\n",
    "\n",
    "right_branch = Conv2D(64, kernel_size = (2,2),strides = (1,1), activation='relu',padding = 'same')(input_awal)\n",
    "right_branch = MaxPooling2D(pool_size = (2,2))(right_branch)\n",
    "\n",
    "# print(right_branch)\n",
    "# mylist = np.array(right_branch)\n",
    "# print(type(mylist))\n",
    "\n",
    "merged = concatenate([left_branch,right_branch])\n",
    "merged = Flatten()(merged)\n",
    "\n",
    "# output_layer = Dense(128, activation='sigmoid')(merged)\n",
    "output_layer = Dense(classes, activation='sigmoid')(merged)\n",
    "\n",
    "merged_model = Model(input_awal, output_layer)\n",
    "\n",
    "merged_model.compile(loss='categorical_crossentropy', optimizer='Adam',metrics=['accuracy'])\n",
    "merged_model.summary()\n",
    "plot_model(merged_model,show_shapes=True,)\n"
   ]
  },
  {
   "cell_type": "markdown",
   "id": "322153da-08ff-4356-8093-99f24af48af7",
   "metadata": {},
   "source": [
    "# train model"
   ]
  },
  {
   "cell_type": "code",
   "execution_count": null,
   "id": "9031838b-b8c7-4298-83f1-64953968fa04",
   "metadata": {},
   "outputs": [],
   "source": [
    "model.fit(train_gen, validation_data = val_gen, epochs = 15)\n",
    "# weights = model.get_weights()\n",
    "# print(model.layers[0].get_weights())"
   ]
  },
  {
   "cell_type": "code",
   "execution_count": null,
   "id": "5aadda16-be14-4556-9594-0d5dc8f65e83",
   "metadata": {},
   "outputs": [],
   "source": [
    "merged_model.fit(train_gen, validation_data = val_gen, epochs = 5)"
   ]
  },
  {
   "cell_type": "markdown",
   "id": "cdf0a314-e657-4bea-9041-a362a8b29039",
   "metadata": {},
   "source": [
    "# save weight"
   ]
  },
  {
   "cell_type": "code",
   "execution_count": null,
   "id": "ee4f76b9-2367-48c5-8280-e854582acf70",
   "metadata": {},
   "outputs": [],
   "source": [
    "# save weight dengan \n",
    "model_json = model.to_json()\n",
    "with open (\"model.json\",\"w\") as file:\n",
    "    file.write(model_json)\n",
    "model.save_weights('model.h5')\n",
    "print()\n",
    "print('model is saved')"
   ]
  },
  {
   "cell_type": "markdown",
   "id": "acdeeace-52aa-4294-921e-c474ff70fad4",
   "metadata": {},
   "source": [
    "# load weight"
   ]
  },
  {
   "cell_type": "code",
   "execution_count": null,
   "id": "58d53915-cb0d-4bab-a61b-83548235feb2",
   "metadata": {},
   "outputs": [],
   "source": [
    "from tensorflow.keras.models import model_from_json\n",
    "json_file= open('model.json','r')\n",
    "loadded_model_json = json_file.read()\n",
    "\n",
    "\n",
    "load_model = model_from_json(loadded_model_json)\n",
    "load_model.load_weights('model.h5')\n",
    "# print(load_model.get_weight)\n",
    "\n",
    "json_file.close()\n",
    "print('model is load')\n",
    "# print(model.layers[0].get_weights())"
   ]
  },
  {
   "cell_type": "markdown",
   "id": "39e45d5d-310d-4361-8da6-d79c54e23e58",
   "metadata": {},
   "source": [
    "# predict "
   ]
  },
  {
   "cell_type": "code",
   "execution_count": null,
   "id": "00c8b8ef-1a80-48f3-af4b-4b9799536e8f",
   "metadata": {},
   "outputs": [],
   "source": [
    "import os\n",
    "import numpy as np\n",
    "import cv2\n",
    "from IPython.display import Image as show\n",
    "from IPython.display import display\n",
    "\n",
    "list = os.listdir('train_cnn')\n",
    "for i in list:\n",
    "    list1 = os.listdir('train_cnn/'+i)\n",
    "    for j in list1:\n",
    "        img = 'train_cnn/'+i+'/'+j+''\n",
    "        image = cv2.imread(img)\n",
    "        image = cv2.resize(image,(img_height,img_width))\n",
    "        image = np.reshape(image, [1,img_height,img_width,3])\n",
    "        prediksi = load_model.predict_classes(image)\n",
    "        nilai = np.amax(load_model.predict(image))\n",
    "        display(show(filename=img))\n",
    "        print(f'fotonya {i} prediksinya {labels[int(prediksi)]}, dengan nilai {nilai}')\n",
    "\n",
    "\n"
   ]
  },
  {
   "cell_type": "markdown",
   "id": "b224074f-c5e5-4f1a-82b6-9720b127a3d2",
   "metadata": {},
   "source": [
    "# predict with video stream"
   ]
  },
  {
   "cell_type": "code",
   "execution_count": null,
   "id": "19cd832f-41ed-4dc1-b0f3-6a76a86e302c",
   "metadata": {},
   "outputs": [],
   "source": [
    "import cv2\n",
    "import numpy as np\n",
    "cap = cv2.VideoCapture(0)\n",
    "\n",
    "bothEye_cascade = cv2.CascadeClassifier('C:/Users/rheza/Documents/Python Scripts/Python Scripts/HaarCascades/haarcascade_mcs_eyepair_big.xml')\n",
    "while(True):\n",
    "    ret, frame = cap.read()\n",
    "    gray = cv2.cvtColor(frame, cv2.COLOR_BGR2GRAY)\n",
    "    bothEye = bothEye_cascade.detectMultiScale(gray, scaleFactor = 1.1, minNeighbors = 3)\n",
    "\n",
    "    for(x, y, w, h) in bothEye:\n",
    "        cv2.rectangle(frame, (x,y-40),(x+w, y+h), (255, 0, 0),2)\n",
    "        roi_eyes = frame[y-40:y+h, x:x+w]\n",
    "        image = cv2.resize(roi_eyes,(img_height,img_width))\n",
    "        image = np.reshape(image, [1,img_height,img_width,3])\n",
    "        \n",
    "        prediksi = load_model.predict_classes(image)\n",
    "        nilai = np.amax(load_model.predict(image))\n",
    "        \n",
    "\n",
    "        # print(labels[int(prediksi)])\n",
    "        # print(nilai)\n",
    "        \n",
    "        \n",
    "        cv2.putText(frame, f'{labels[int(prediksi)]}{nilai}', (x, y - 20), cv2.FONT_HERSHEY_COMPLEX, 0.8, [0, 0, 255], 3)\n",
    "        \n",
    "    cv2.imshow('frame',frame)\n",
    "    if cv2.waitKey(1) == ord('q'):\n",
    "        print(\"end\")\n",
    "        break\n",
    "\n",
    "cap.release()\n",
    "cv2.destroyAllWindows()"
   ]
  }
 ],
 "metadata": {
  "kernelspec": {
   "display_name": "Python 3",
   "language": "python",
   "name": "python3"
  },
  "language_info": {
   "codemirror_mode": {
    "name": "ipython",
    "version": 3
   },
   "file_extension": ".py",
   "mimetype": "text/x-python",
   "name": "python",
   "nbconvert_exporter": "python",
   "pygments_lexer": "ipython3",
   "version": "3.8.8"
  }
 },
 "nbformat": 4,
 "nbformat_minor": 5
}